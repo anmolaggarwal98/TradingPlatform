{
 "cells": [
  {
   "cell_type": "code",
   "execution_count": 1,
   "metadata": {},
   "outputs": [],
   "source": [
    "#!pip3 install import_ipynb\n",
    "#!pip3 install mpl_finance"
   ]
  },
  {
   "cell_type": "code",
   "execution_count": 4,
   "metadata": {},
   "outputs": [
    {
     "name": "stdout",
     "output_type": "stream",
     "text": [
      "importing Jupyter notebook from get_data.ipynb\n"
     ]
    }
   ],
   "source": [
    "#%run get_data.ipynb as get\n",
    "\n",
    "import import_ipynb\n",
    "import get_data as get"
   ]
  },
  {
   "cell_type": "code",
   "execution_count": 2,
   "metadata": {},
   "outputs": [],
   "source": [
    "import pandas as pd\n",
    "import numpy as np\n",
    "import datetime as dt\n",
    "import matplotlib.pyplot as plt\n",
    "import matplotlib.dates as mdates \n",
    "from mpl_finance import candlestick_ohlc\n",
    "import pandas_datareader.data as web\n",
    "import os"
   ]
  },
  {
   "cell_type": "code",
   "execution_count": 8,
   "metadata": {},
   "outputs": [
    {
     "name": "stdout",
     "output_type": "stream",
     "text": [
      "            RSI\n",
      "1317  60.401729\n",
      "1318  62.611250\n",
      "1319  60.771216\n",
      "1320  39.916463\n",
      "1321  36.632360\n"
     ]
    }
   ],
   "source": [
    "def rsiFunc(ticker,n=14):\n",
    "\n",
    "    '''This calculates the RS and RSI values \n",
    "    and automatically adds it to the ticker.csv \n",
    "    with the inbuilt get.add_col function defined before'''\n",
    "    \n",
    "    if not os.path.exists('stock_dfs/{}.csv'.format(ticker)):\n",
    "        get.get_data(ticker, verbose = False);\n",
    "    \n",
    "    df_close = pd.read_csv('stock_dfs/{}.csv'.format(ticker)\n",
    "                           ,parse_dates=True,index_col=0)['Adj Close']\n",
    "    \n",
    "    df = pd.DataFrame()\n",
    "    deltas = np.diff(df_close)\n",
    "    seed = deltas[:n]\n",
    "\n",
    "    gain = seed[seed>=0]\n",
    "    loss = -seed[seed<0]\n",
    "\n",
    "    avg_gain = sum(gain)/n\n",
    "    avg_loss = sum(loss)/n\n",
    "\n",
    "    rs = avg_gain/avg_loss\n",
    "    rs_list = np.zeros_like(df_close)\n",
    "    rs_list[:n] = rs\n",
    "\n",
    "    rsi = np.zeros_like(df_close)\n",
    "    rsi[:n] = 100 - 100/(1+rs)\n",
    "\n",
    "    for i in range(n,len(df_close)):\n",
    "        delta = deltas[i-1]\n",
    "\n",
    "        if delta > 0:\n",
    "            upval = delta\n",
    "            downval = 0\n",
    "        else:\n",
    "            upval = 0\n",
    "            downval = -delta\n",
    "\n",
    "        avg_gain = (avg_gain*(n-1)+upval)/n\n",
    "        avg_loss = (avg_loss*(n-1)+downval)/n\n",
    "\n",
    "        rs = avg_gain/avg_loss\n",
    "        rs_list[i] = rs\n",
    "        rsi[i] = 100 - 100/(1+rs)\n",
    "\n",
    "    rs_list = rs_list[n:]\n",
    "    rsi[:n-1] = np.nan\n",
    "    \n",
    "    df['RSI'] = rsi\n",
    "    get.add_col(df,ticker,heading = 'RSI')\n",
    "\n",
    "    return df\n",
    "\n",
    "if __name__==\"__main__\":\n",
    "    print(rsiFunc('TWTR',n=10).tail())"
   ]
  },
  {
   "cell_type": "code",
   "execution_count": null,
   "metadata": {},
   "outputs": [],
   "source": []
  }
 ],
 "metadata": {
  "kernelspec": {
   "display_name": "Python 3",
   "language": "python",
   "name": "python3"
  },
  "language_info": {
   "codemirror_mode": {
    "name": "ipython",
    "version": 3
   },
   "file_extension": ".py",
   "mimetype": "text/x-python",
   "name": "python",
   "nbconvert_exporter": "python",
   "pygments_lexer": "ipython3",
   "version": "3.6.6"
  }
 },
 "nbformat": 4,
 "nbformat_minor": 4
}
