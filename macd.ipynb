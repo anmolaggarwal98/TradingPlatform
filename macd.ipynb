{
 "cells": [
  {
   "cell_type": "code",
   "execution_count": 2,
   "metadata": {},
   "outputs": [],
   "source": [
    "import import_ipynb\n",
    "import get_data as get\n",
    "\n",
    "import pandas as pd\n",
    "import numpy as np \n",
    "import os "
   ]
  },
  {
   "cell_type": "code",
   "execution_count": 4,
   "metadata": {},
   "outputs": [
    {
     "data": {
      "text/html": [
       "<div>\n",
       "<style scoped>\n",
       "    .dataframe tbody tr th:only-of-type {\n",
       "        vertical-align: middle;\n",
       "    }\n",
       "\n",
       "    .dataframe tbody tr th {\n",
       "        vertical-align: top;\n",
       "    }\n",
       "\n",
       "    .dataframe thead th {\n",
       "        text-align: right;\n",
       "    }\n",
       "</style>\n",
       "<table border=\"1\" class=\"dataframe\">\n",
       "  <thead>\n",
       "    <tr style=\"text-align: right;\">\n",
       "      <th></th>\n",
       "      <th>MACD</th>\n",
       "    </tr>\n",
       "    <tr>\n",
       "      <th>Date</th>\n",
       "      <th></th>\n",
       "    </tr>\n",
       "  </thead>\n",
       "  <tbody>\n",
       "    <tr>\n",
       "      <th>2019-02-04</th>\n",
       "      <td>-16.476701</td>\n",
       "    </tr>\n",
       "    <tr>\n",
       "      <th>2019-02-05</th>\n",
       "      <td>-14.960610</td>\n",
       "    </tr>\n",
       "    <tr>\n",
       "      <th>2019-02-06</th>\n",
       "      <td>-14.246205</td>\n",
       "    </tr>\n",
       "    <tr>\n",
       "      <th>2019-02-07</th>\n",
       "      <td>-13.492819</td>\n",
       "    </tr>\n",
       "    <tr>\n",
       "      <th>2019-02-08</th>\n",
       "      <td>-11.820864</td>\n",
       "    </tr>\n",
       "  </tbody>\n",
       "</table>\n",
       "</div>"
      ],
      "text/plain": [
       "                 MACD\n",
       "Date                 \n",
       "2019-02-04 -16.476701\n",
       "2019-02-05 -14.960610\n",
       "2019-02-06 -14.246205\n",
       "2019-02-07 -13.492819\n",
       "2019-02-08 -11.820864"
      ]
     },
     "execution_count": 4,
     "metadata": {},
     "output_type": "execute_result"
    }
   ],
   "source": [
    "def computeMACD(ticker, slow = 26, fast = 12):\n",
    "    \"\"\"\n",
    "    compute the MACD (Moving Average Convergence/Divergence) using a fast and slow exponential moving avg'\n",
    "    return value is dataframe \n",
    "    \"\"\"\n",
    "    df = pd.DataFrame()\n",
    "    \n",
    "    if not os.path.exists('stock_dfs/{}.csv'.format(ticker)):\n",
    "        get.get_data(ticker)\n",
    "        \n",
    "    data = pd.read_csv('stock_dfs/{}.csv'.format(ticker),\n",
    "                 parse_dates=True,index_col=0)\n",
    "    \n",
    "    price = data['Adj Close']\n",
    "\n",
    "    emaslow = get.exponential_moving_average(price, window = slow)\n",
    "    emafast = get.exponential_moving_average(price, window = fast)\n",
    "    macd = emafast - emaslow\n",
    "    get.add_col(macd,ticker,heading = 'MACD')\n",
    "    \n",
    "    df['MACD'] = macd\n",
    "    #df['EmaSlow'] = emaslow\n",
    "    #df['EmaFast'] = emafast\n",
    "    \n",
    "    return df\n",
    "    \n",
    "computeMACD('AAPL').tail()"
   ]
  },
  {
   "cell_type": "code",
   "execution_count": 5,
   "metadata": {},
   "outputs": [
    {
     "data": {
      "text/html": [
       "<div>\n",
       "<style scoped>\n",
       "    .dataframe tbody tr th:only-of-type {\n",
       "        vertical-align: middle;\n",
       "    }\n",
       "\n",
       "    .dataframe tbody tr th {\n",
       "        vertical-align: top;\n",
       "    }\n",
       "\n",
       "    .dataframe thead th {\n",
       "        text-align: right;\n",
       "    }\n",
       "</style>\n",
       "<table border=\"1\" class=\"dataframe\">\n",
       "  <thead>\n",
       "    <tr style=\"text-align: right;\">\n",
       "      <th></th>\n",
       "      <th>MACD_EMA9</th>\n",
       "    </tr>\n",
       "    <tr>\n",
       "      <th>Date</th>\n",
       "      <th></th>\n",
       "    </tr>\n",
       "  </thead>\n",
       "  <tbody>\n",
       "    <tr>\n",
       "      <th>2019-02-04</th>\n",
       "      <td>-27.297140</td>\n",
       "    </tr>\n",
       "    <tr>\n",
       "      <th>2019-02-05</th>\n",
       "      <td>-27.157600</td>\n",
       "    </tr>\n",
       "    <tr>\n",
       "      <th>2019-02-06</th>\n",
       "      <td>-26.846000</td>\n",
       "    </tr>\n",
       "    <tr>\n",
       "      <th>2019-02-07</th>\n",
       "      <td>-26.319235</td>\n",
       "    </tr>\n",
       "    <tr>\n",
       "      <th>2019-02-08</th>\n",
       "      <td>-25.627699</td>\n",
       "    </tr>\n",
       "  </tbody>\n",
       "</table>\n",
       "</div>"
      ],
      "text/plain": [
       "            MACD_EMA9\n",
       "Date                 \n",
       "2019-02-04 -27.297140\n",
       "2019-02-05 -27.157600\n",
       "2019-02-06 -26.846000\n",
       "2019-02-07 -26.319235\n",
       "2019-02-08 -25.627699"
      ]
     },
     "execution_count": 5,
     "metadata": {},
     "output_type": "execute_result"
    }
   ],
   "source": [
    "def macd_ema(ticker, n = 9):\n",
    "    '''Calculating 9 day EMA of MACD line\n",
    "    DONT CHANGE THE n=9 BECAUSE IT WILL MESS UP \n",
    "    THE candle_rsi() function'''\n",
    "    \n",
    "    df = pd.DataFrame()\n",
    "    \n",
    "    if not os.path.exists('stock_dfs/{}.csv'.format(ticker)):\n",
    "        computeMACD(ticker, slow = 26, fast = 12);\n",
    "        \n",
    "    data = pd.read_csv('stock_dfs/{}.csv'.format(ticker),\n",
    "                 parse_dates=True,index_col=0)\n",
    "    macd = data['MACD']\n",
    "    ema = get.exponential_moving_average(macd,window = n)\n",
    "    get.add_col(ema,ticker,heading = 'MACD_EMA{}'.format(n))\n",
    "    \n",
    "    df['MACD_EMA{}'.format(n)] = ema\n",
    "    return df\n",
    "\n",
    "macd_ema('AAPL').tail()"
   ]
  },
  {
   "cell_type": "code",
   "execution_count": null,
   "metadata": {},
   "outputs": [],
   "source": []
  },
  {
   "cell_type": "code",
   "execution_count": null,
   "metadata": {},
   "outputs": [],
   "source": []
  },
  {
   "cell_type": "code",
   "execution_count": null,
   "metadata": {},
   "outputs": [],
   "source": []
  },
  {
   "cell_type": "code",
   "execution_count": null,
   "metadata": {},
   "outputs": [],
   "source": []
  },
  {
   "cell_type": "code",
   "execution_count": null,
   "metadata": {},
   "outputs": [],
   "source": []
  },
  {
   "cell_type": "code",
   "execution_count": null,
   "metadata": {},
   "outputs": [],
   "source": []
  }
 ],
 "metadata": {
  "kernelspec": {
   "display_name": "Python 3",
   "language": "python",
   "name": "python3"
  },
  "language_info": {
   "codemirror_mode": {
    "name": "ipython",
    "version": 3
   },
   "file_extension": ".py",
   "mimetype": "text/x-python",
   "name": "python",
   "nbconvert_exporter": "python",
   "pygments_lexer": "ipython3",
   "version": "3.6.6"
  }
 },
 "nbformat": 4,
 "nbformat_minor": 4
}
