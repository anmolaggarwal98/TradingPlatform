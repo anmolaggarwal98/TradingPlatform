{
 "cells": [
  {
   "cell_type": "code",
   "execution_count": 1,
   "metadata": {},
   "outputs": [
    {
     "name": "stdout",
     "output_type": "stream",
     "text": [
      "importing Jupyter notebook from get_data.ipynb\n"
     ]
    }
   ],
   "source": [
    "#!pip3 install import_ipynb\n",
    "#!pip3 install mpl_finance\n",
    "\n",
    "import import_ipynb\n",
    "import get_data as get"
   ]
  },
  {
   "cell_type": "code",
   "execution_count": 2,
   "metadata": {},
   "outputs": [],
   "source": [
    "import pandas as pd\n",
    "import os\n",
    "from time import time"
   ]
  },
  {
   "cell_type": "code",
   "execution_count": 3,
   "metadata": {},
   "outputs": [
    {
     "name": "stdout",
     "output_type": "stream",
     "text": [
      "Daily Returns for TWTR are: \n",
      "\n",
      "Date\n",
      "2013-11-07         NaN\n",
      "2013-11-08   -0.072383\n",
      "2013-11-11    0.030012\n",
      "2013-11-12   -0.023310\n",
      "2013-11-13    0.016706\n",
      "Name: Adj Close, dtype: float64\n",
      "\n",
      "Duration in Seconds:   0.171\n"
     ]
    }
   ],
   "source": [
    "def returns(ticker):\n",
    "    \n",
    "    '''\n",
    "    Gives the percentage change of the stock price\n",
    "    \n",
    "    Parameters\n",
    "    ___________\n",
    "    data: dataframe\n",
    "        to add to the df if it doesn't exist\n",
    "    '''\n",
    "    \n",
    "    if not os.path.exists('stock_dfs/{}.csv'.format(ticker)):\n",
    "        get.get_data(ticker, verbose = False);\n",
    "    \n",
    "    df_close= pd.read_csv('stock_dfs/{}.csv'.format(ticker)\n",
    "                           ,parse_dates=True,index_col=0)['Adj Close']\n",
    "    df = pd.DataFrame();\n",
    "    \n",
    "    daily_return = df_close.pct_change(1)   #gives daily return (consective days)\n",
    "    \n",
    "    df['Returns'] = daily_return\n",
    "    get.add_col(df,ticker,heading = 'Returns')\n",
    "    \n",
    "    return daily_return \n",
    "\n",
    "\n",
    "if __name__==\"__main__\":\n",
    "    start = time()\n",
    "    ticker = 'TWTR'\n",
    "    daily_return = returns(ticker)\n",
    "    end = time() - start\n",
    "    print('Daily Returns for {} are: \\n'.format(ticker))\n",
    "    print(daily_return.head(),'',sep='\\n')\n",
    "    print('Duration in Seconds: %7.3f' % end)\n",
    "    "
   ]
  },
  {
   "cell_type": "code",
   "execution_count": null,
   "metadata": {},
   "outputs": [],
   "source": []
  },
  {
   "cell_type": "code",
   "execution_count": null,
   "metadata": {},
   "outputs": [],
   "source": []
  }
 ],
 "metadata": {
  "kernelspec": {
   "display_name": "Python 3",
   "language": "python",
   "name": "python3"
  },
  "language_info": {
   "codemirror_mode": {
    "name": "ipython",
    "version": 3
   },
   "file_extension": ".py",
   "mimetype": "text/x-python",
   "name": "python",
   "nbconvert_exporter": "python",
   "pygments_lexer": "ipython3",
   "version": "3.6.6"
  }
 },
 "nbformat": 4,
 "nbformat_minor": 4
}
